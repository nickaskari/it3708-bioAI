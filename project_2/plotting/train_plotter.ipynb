{
 "cells": [
  {
   "cell_type": "code",
   "execution_count": null,
   "metadata": {},
   "outputs": [],
   "source": [
    "# For usage on the training data only\n",
    "def plot_patients_and_depot(data):\n",
    "   \n",
    "    depot_x = data['depot']['x_coord']\n",
    "    depot_y = data['depot']['y_coord']\n",
    "\n",
    "    x_coords = []\n",
    "    y_coords = []\n",
    "\n",
    "    for patient_id, patient_info in data['patients'].items():\n",
    "        x_coords.append(patient_info['x_coord'])\n",
    "        y_coords.append(patient_info['y_coord'])\n",
    "\n",
    "    # Plotting\n",
    "    plt.figure(figsize=(10, 8))\n",
    "    plt.scatter(x_coords, y_coords, c='black', marker='s', label='Patients', s=10)\n",
    "    plt.scatter(depot_x, depot_y, c='black', marker='o', s=150, label='Depot')\n",
    "\n",
    "    plt.xlabel('X Coordinate')\n",
    "    plt.ylabel('Y Coordinate')\n",
    "    plt.title('Patient Locations with Depot')\n",
    "    \n",
    "    plt.show()"
   ]
  },
  {
   "cell_type": "code",
   "execution_count": null,
   "metadata": {},
   "outputs": [],
   "source": [
    "data = json.load(open('../train/train_1.json', 'r'))\n",
    "plot_patients_and_depot(data)"
   ]
  },
  {
   "cell_type": "code",
   "execution_count": null,
   "metadata": {},
   "outputs": [],
   "source": [
    "data = json.load(open('../train/train_3.json', 'r'))\n",
    "plot_patients_and_depot(data)"
   ]
  },
  {
   "cell_type": "code",
   "execution_count": null,
   "metadata": {},
   "outputs": [],
   "source": [
    "data = json.load(open('../train/train_5.json', 'r'))\n",
    "plot_patients_and_depot(data)"
   ]
  },
  {
   "cell_type": "code",
   "execution_count": null,
   "metadata": {},
   "outputs": [],
   "source": [
    "data = json.load(open('../train/train_7.json', 'r'))\n",
    "plot_patients_and_depot(data)"
   ]
  },
  {
   "cell_type": "code",
   "execution_count": null,
   "metadata": {},
   "outputs": [],
   "source": [
    "data = json.load(open('../train/train_9.json', 'r'))\n",
    "plot_patients_and_depot(data)"
   ]
  },
  {
   "cell_type": "code",
   "execution_count": null,
   "metadata": {},
   "outputs": [],
   "source": []
  }
 ],
 "metadata": {
  "kernelspec": {
   "display_name": "sigmoidwarriors",
   "language": "python",
   "name": "sigmoidwarriors"
  },
  "language_info": {
   "codemirror_mode": {
    "name": "ipython",
    "version": 3
   },
   "file_extension": ".py",
   "mimetype": "text/x-python",
   "name": "python",
   "nbconvert_exporter": "python",
   "pygments_lexer": "ipython3",
   "version": "3.10.2"
  }
 },
 "nbformat": 4,
 "nbformat_minor": 2
}
