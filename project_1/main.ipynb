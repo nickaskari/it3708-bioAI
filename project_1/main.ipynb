{
 "cells": [
  {
   "cell_type": "markdown",
   "metadata": {},
   "source": [
    "<h1 style=\"font-family: Arial, sans-serif; font-size: 40px; color: white; text-align: center; margin-top: 40px;\">Project 1A - Genetic Algorithms for Feature\n",
    "Selection using Python</h1>\n",
    "    <h2 style=\"font-family: Arial, serif; font-size: 24px; color: white; text-align: center; margin-top: 20px;\">By Nick Askari and Simen Peder Stang</h2>"
   ]
  },
  {
   "cell_type": "code",
   "execution_count": null,
   "metadata": {},
   "outputs": [],
   "source": [
    "import numpy as np\n",
    "import random\n",
    "import matplotlib.pyplot as plt\n",
    "import copy\n",
    "import LinReg\n",
    "import pandas as pd"
   ]
  },
  {
   "cell_type": "markdown",
   "metadata": {},
   "source": [
    "## Defining paramters for the SGA"
   ]
  },
  {
   "cell_type": "code",
   "execution_count": null,
   "metadata": {},
   "outputs": [],
   "source": [
    "pop_size = 100\n",
    "chromosome_length = 90\n",
    "generation_number = 1\n",
    "crossover_rate = 0.9\n",
    "mutation_rate = 0.1\n",
    "num_parents = int(np.floor(pop_size/2))\n",
    "g_max = 10\n",
    "enable_constraint = (False, [5, 10])\n",
    "\n",
    "data = pd.read_csv(\"dataset.txt\", header=None)\n",
    "regressor = LinReg.LinReg()"
   ]
  },
  {
   "cell_type": "markdown",
   "metadata": {},
   "source": [
    "## Defining the Individual"
   ]
  },
  {
   "cell_type": "code",
   "execution_count": null,
   "metadata": {},
   "outputs": [],
   "source": [
    "class Individual:\n",
    "    def __init__(self, genotype, age) -> None:\n",
    "        self.genotype = genotype\n",
    "        self.phenotype = int(genotype, 2)\n",
    "        self.age = age\n",
    "        self.sin_fitness = self.calculate_sin_fitness()\n",
    "        self.rmse_fitness = self.calculate_rmse_fitness()\n",
    "\n",
    "    def scaled_phenotype(self):\n",
    "        genotype_length = len(self.genotype)\n",
    "        scaling_factor = (2**7) / (2**genotype_length)\n",
    "        scaled_value = self.phenotype * scaling_factor\n",
    "        return scaled_value\n",
    "    \n",
    "    def calculate_sin_fitness(self):\n",
    "        x = self.scaled_phenotype()\n",
    "\n",
    "        # Handle if there is a constraint\n",
    "        if enable_constraint[0]:\n",
    "            distance = self.calculate_distance(x)\n",
    "            fitness = np.sin(x) + 1 - distance\n",
    "            if fitness < 0:\n",
    "                return 0\n",
    "            else:\n",
    "                return fitness\n",
    "        else:\n",
    "            # Scaling by 1 to avoid negative values\n",
    "            return np.sin(x) + 1\n",
    "    \n",
    "    def calculate_rmse_fitness(self):\n",
    "        y = np.array([int(bit) for bit in self.genotype])\n",
    "        X = regressor.get_columns(data.values, y)\n",
    "\n",
    "        # Return rmse based on whether feature selection is activated (related to task g))\n",
    "\n",
    "        return regressor.get_fitness(X[:,:-1], X[:,-1])\n",
    "\n",
    "    def calculate_distance(self, x):\n",
    "        lower_bound, upper_bound = enable_constraint[1][0], enable_constraint[1][1]\n",
    "        if x < lower_bound:\n",
    "            return lower_bound - x\n",
    "        elif x > upper_bound:\n",
    "            return x - upper_bound\n",
    "        else:\n",
    "            return 0\n",
    "\n",
    "    def grow_older(self):\n",
    "        self.age += 1\n",
    "    \n",
    "    def __repr__(self):\n",
    "        return f\"Individual(genotype={self.genotype}, phenotype={self.phenotype}, sin_fitness={self.sin_fitness}, age={self.age})\"\n",
    "    \n",
    "    def __hash__(self):\n",
    "        return hash((self.genotype, self.phenotype))"
   ]
  },
  {
   "cell_type": "markdown",
   "metadata": {},
   "source": [
    "## Sin Synthetic Problem"
   ]
  },
  {
   "cell_type": "markdown",
   "metadata": {},
   "source": [
    "*a) Implement a function to generate an initial population for your genetic\n",
    "algorithm.*"
   ]
  },
  {
   "cell_type": "markdown",
   "metadata": {},
   "source": [
    "We are choosing to initialize the population, according to the size parameters. The actual genotypes (0's and 1's) will be generated randomly."
   ]
  },
  {
   "cell_type": "code",
   "execution_count": null,
   "metadata": {},
   "outputs": [],
   "source": [
    "def init_population():\n",
    "    population = []\n",
    "    \n",
    "    for _ in range(pop_size):\n",
    "        new_genotype = \"\"\n",
    "        for _ in range(chromosome_length):\n",
    "            new_genotype += str(random.randint(0,1))\n",
    "\n",
    "        new_individual = Individual(new_genotype, age=0)\n",
    "        population.append(new_individual)\n",
    "    return population"
   ]
  },
  {
   "cell_type": "markdown",
   "metadata": {},
   "source": [
    "*b) Implement a parent selection function for your genetic algorithm. This function\n",
    "should find the fittest individuals in the population, and select parents based\n",
    "on this fitness.*"
   ]
  },
  {
   "cell_type": "markdown",
   "metadata": {},
   "source": [
    "Here we are using the fitness function given by the sine function, as explained in the task. Moreover we are implementing a roulette-wheel approach as parent selection."
   ]
  },
  {
   "cell_type": "code",
   "execution_count": null,
   "metadata": {},
   "outputs": [],
   "source": [
    "def roulette_wheel_parent_selection(population, use_dataset):    \n",
    "    # Probability of choosing each individual based on the roulette wheel approach\n",
    "    if use_dataset:\n",
    "        # Minimizing\n",
    "        total_fitness = sum(1.0 / individual.rmse_fitness for individual in population)\n",
    "        probabilities = [(1.0 / individual.rmse_fitness) / total_fitness for individual in population]\n",
    "    else:\n",
    "        # Maximizing\n",
    "        total_fitness = sum(individual.sin_fitness for individual in population)\n",
    "        probabilities = [individual.sin_fitness/total_fitness for individual in population]\n",
    "\n",
    "    # Choosing num_parents parents with the above probabilities for each individual\n",
    "    parents = np.random.choice(population, size=num_parents, p=probabilities)\n",
    "    \n",
    "    return list(parents)"
   ]
  },
  {
   "cell_type": "markdown",
   "metadata": {},
   "source": [
    "*c) Implement a function that creates two offspring from two parents through\n",
    "crossover. The offspring should also have a chance of getting a random\n",
    "mutation.*"
   ]
  },
  {
   "cell_type": "code",
   "execution_count": null,
   "metadata": {},
   "outputs": [],
   "source": [
    "def crossover(parent1, parent2):\n",
    "    gene_cutoff = random.randint(1, chromosome_length - 1)\n",
    "\n",
    "    genotype_1 = parent1.genotype[: gene_cutoff] + parent2.genotype[gene_cutoff:]\n",
    "    genotype_2 = parent2.genotype[: gene_cutoff] + parent1.genotype[gene_cutoff:]\n",
    "\n",
    "    child_1 = Individual(mutate(genotype_1), age=0)\n",
    "    child_2 = Individual(mutate(genotype_2), age=0)\n",
    "\n",
    "    return child_1, child_2\n",
    "        \n",
    "def mutate(genotype):\n",
    "    if np.random.random() < mutation_rate:\n",
    "        char_list = list(genotype)\n",
    "\n",
    "        random_index = np.random.randint(len(char_list))\n",
    "\n",
    "        char_list[random_index] = '0' if char_list[random_index] == '1' else '1'\n",
    "\n",
    "        return ''.join(char_list)\n",
    "    else:\n",
    "        return genotype"
   ]
  },
  {
   "cell_type": "markdown",
   "metadata": {},
   "source": [
    "*d) Implement survivor selection.*\n",
    "\n",
    "- For a 1-person team: Implement one survivor selection function that\n",
    "selects the survivors of a population based on their fitness.\n",
    "- For a 2-person team: Implement two such survivor selection functions."
   ]
  },
  {
   "cell_type": "markdown",
   "metadata": {},
   "source": [
    "Survivor selection function 1 chooses based on age. It sorts the population based on age, from youngest to oldest. Then outputs the youngest individuals."
   ]
  },
  {
   "cell_type": "code",
   "execution_count": null,
   "metadata": {},
   "outputs": [],
   "source": [
    "def age_selection(population):\n",
    "    age_sorted_population = sorted(population, key=lambda x: x.age)\n",
    "    return age_sorted_population[:pop_size]"
   ]
  },
  {
   "cell_type": "markdown",
   "metadata": {},
   "source": [
    "Survivor selection function 2 uses tounrament selection. A set of individuals is randomly chosen, and the one with the highest fitness within this group is selected to survive. This process is repeated until the desired number of survivors is reached."
   ]
  },
  {
   "cell_type": "code",
   "execution_count": null,
   "metadata": {},
   "outputs": [],
   "source": [
    "# UNSURE IF THIS IS CROWDING (SHOULD WE CHANGE THIS --> CHATGPT SAYS NOT)\n",
    "\n",
    "def tournament_selection(population, use_dataset):\n",
    "    contestants = population.copy()\n",
    "    winners = []\n",
    "\n",
    "    while len(winners) != pop_size:\n",
    "        if len(contestants) > 1:\n",
    "            size = random.randint(2, len(contestants))\n",
    "            trial = np.random.choice(contestants, size, replace=False)\n",
    "            \n",
    "            if use_dataset:\n",
    "                winner = min(trial, key=lambda x: x.rmse_fitness)\n",
    "            else:\n",
    "                winner = max(trial, key=lambda x: x.sin_fitness)\n",
    "            contestants.remove(winner)\n",
    "            \n",
    "            winners.append(winner)\n",
    "        else:\n",
    "            winner = contestants[0]\n",
    "            winners.append(winner)\n",
    "    \n",
    "    return list(winners)"
   ]
  },
  {
   "cell_type": "markdown",
   "metadata": {},
   "source": [
    "*e) Connect all the implemented functions to complete the genetic algorithm, and\n",
    "run the algorithm with the sine fitness function. Throughout the generations\n",
    "plot the individuals, values and fitness values with the sine wave.*"
   ]
  },
  {
   "cell_type": "code",
   "execution_count": null,
   "metadata": {},
   "outputs": [],
   "source": [
    "def sga(survivor_selection, use_dataset, feature_selection=True, crowding=None, enable_entropy=False, threshold=False):\n",
    "    g = 0\n",
    "    population = init_population()\n",
    "    entropy_points = []\n",
    "    reached_threshold = False\n",
    "\n",
    "    while g < g_max and not reached_threshold:\n",
    "        g += 1\n",
    "        age_population(population)\n",
    "        \n",
    "        stats = plot_generation(population, generation=g, use_dataset=use_dataset)\n",
    "\n",
    "        if enable_entropy:\n",
    "            entropy_points.append((g, calculate_entropy(population)))\n",
    "\n",
    "        print(\"Average fitness of generation\", g, \"is\", stats[0], \"\\n| Fitness lower bound =\", stats[2], \"| Fitness upper bound =\", stats[1])\n",
    "        print(\"Population size =\", len(population))\n",
    "\n",
    "        if threshold:\n",
    "            if stats[0] < threshold:\n",
    "                reached_thresholdt = True\n",
    "                print(\"\\nThreshold has been reached..\")\n",
    "                break\n",
    "        \n",
    "        new_population = []\n",
    "\n",
    "        # Creating parents (mating pool)\n",
    "        parents = roulette_wheel_parent_selection(population, use_dataset)\n",
    "        \n",
    "        # Shuffling mating pool\n",
    "        random.shuffle(parents)\n",
    "        parent1, parent2 = random.sample(parents, 2)\n",
    "\n",
    "        while len(new_population) < len(population):\n",
    "            parent1, parent2 = random.sample(parents, 2)\n",
    "            \n",
    "            if np.random.random() < crossover_rate:\n",
    "                child1, child2 = crossover(parent1, parent2)\n",
    "\n",
    "                if not crowding:\n",
    "                    new_population.extend([child1, child2])\n",
    "                    \n",
    "                    if parent1 not in new_population:\n",
    "                        new_population.append(copy.deepcopy(parent1))\n",
    "                    if parent2 not in new_population:\n",
    "                        new_population.append(copy.deepcopy(parent2))\n",
    "                else:\n",
    "                    # In this there is crowding. Either deterministic or probabilistic according to what is defined\n",
    "                    # as the replacement method inside the crowding function.\n",
    "                    \n",
    "                    winner1, winner2 = crowding[0](child1, child2, parent1, parent2, use_dataset, crowding[1])\n",
    "                    if winner1 not in new_population:\n",
    "                        new_population.append(copy.deepcopy(winner1))\n",
    "                    if winner2 not in new_population:\n",
    "                        new_population.append(copy.deepcopy(winner2))\n",
    "\n",
    "        # Survivor selection (no crowding)\n",
    "        if not crowding:\n",
    "            if survivor_selection == 'age':\n",
    "                population = age_selection(new_population)\n",
    "            elif survivor_selection == 'tournament':\n",
    "                population = tournament_selection(new_population, use_dataset)\n",
    "        else:\n",
    "            population = new_population\n",
    "        \n",
    "        print(\"\\n\")\n",
    "\n",
    "    if enable_entropy:\n",
    "        return (population, entropy_points)\n",
    "    else:\n",
    "        return population\n",
    "\n",
    "\n",
    "def plot_generation(population, generation, use_dataset):\n",
    "    if not use_dataset:\n",
    "        x = np.linspace(0, 128, 500)\n",
    "        y = np.sin(x)\n",
    "        plt.plot(x, y)\n",
    "\n",
    "    fitness_pool = []\n",
    "\n",
    "    # Plot each individual in the population\n",
    "    for individual in population:\n",
    "        phenotype = individual.scaled_phenotype()\n",
    "        if use_dataset:\n",
    "            fitness = individual.rmse_fitness\n",
    "        else:\n",
    "            fitness = individual.sin_fitness - 1\n",
    "            plt.scatter(phenotype, fitness, alpha=1, color = 'orange') \n",
    "        fitness_pool.append(fitness) \n",
    "\n",
    "    if not use_dataset:\n",
    "        plt.title('Population plot, generation ' + str(generation))\n",
    "        plt.xlabel('Phenotype')\n",
    "        plt.ylabel('Fitness')\n",
    "        plt.grid(True)\n",
    "        plt.show()\n",
    "\n",
    "    return (np.average(fitness_pool), np.max(fitness_pool), np.min(fitness_pool))\n",
    "\n",
    "def age_population(population):\n",
    "    ages = []\n",
    "    for individual in population:\n",
    "        individual.grow_older()\n",
    "        ages.append(individual.age)\n",
    "\n",
    "    print(\"Max age:\", max(ages), \"| Min age:\", min(ages))\n",
    "\n",
    "def calculate_entropy(population):\n",
    "    genotype_array = np.array([[int(bit) for bit in individual.genotype] for individual in population])\n",
    "    \n",
    "    p = genotype_array.mean(axis=0)\n",
    "    \n",
    "    epsilon = 1e-10\n",
    "    H = -np.sum(p * np.log2(p + epsilon) + (1 - p) * np.log2(1 - p + epsilon))\n",
    "    \n",
    "    return H\n"
   ]
  },
  {
   "cell_type": "code",
   "execution_count": null,
   "metadata": {},
   "outputs": [],
   "source": [
    "# Choose survivor selection method. Either 'age' or 'tournament'\n",
    "\n",
    "population = sga(survivor_selection = 'age', use_dataset=False)"
   ]
  },
  {
   "cell_type": "markdown",
   "metadata": {},
   "source": [
    "## Check how many duplicates"
   ]
  },
  {
   "cell_type": "code",
   "execution_count": null,
   "metadata": {},
   "outputs": [],
   "source": [
    "import statistics\n",
    "from statistics import mode\n",
    "\n",
    "def most_common_and_count(lst):\n",
    "    most_common_obj = mode(lst)\n",
    "    count = lst.count(most_common_obj)\n",
    "    return most_common_obj, count\n",
    "\n",
    "# Example usage with your population list\n",
    "most_common_obj, count = most_common_and_count(population)\n",
    "print(f\"The most common object is: {most_common_obj}\")\n",
    "print(f\"It appears {count} times in the population.\")\n"
   ]
  },
  {
   "cell_type": "markdown",
   "metadata": {},
   "source": [
    "*f) This task is identical to e), however, we now add the constraint that the\n",
    "solution must reside in the interval [5,10]. The constraint should not be\n",
    "handled by scaling the real value of the bitstring into the new interval.\n",
    "Throughout the generations plot the individuals, values and fitness values with\n",
    "the sine wave.*"
   ]
  },
  {
   "cell_type": "markdown",
   "metadata": {},
   "source": [
    "We are to handle a constraint. In the excersise we are taught how to utilize such constraints. \n",
    "\n",
    "*\"Constraints can be handled indirectly by adding a penalty term to the fitness\n",
    "function. The original fitness function f(x) is then transformed into f’(x) = f(x) +\n",
    "P(d(x,F)), where d(x,F) is a distance metric of the infeasible point to the feasible\n",
    "region F. The penalty function P is zero for feasible solutions and increases\n",
    "proportionally with the distance to the feasible region.\"*"
   ]
  },
  {
   "cell_type": "code",
   "execution_count": null,
   "metadata": {},
   "outputs": [],
   "source": [
    "enable_constraint = (True, [5, 10])\n",
    "\n",
    "population = sga(survivor_selection = 'age', use_dataset=False)"
   ]
  },
  {
   "cell_type": "markdown",
   "metadata": {},
   "source": [
    "## For the feature selection problem"
   ]
  },
  {
   "cell_type": "markdown",
   "metadata": {},
   "source": [
    "*g) Run the genetic algorithm on the provided dataset. Show the results, and\n",
    "compare them to the results of not using any feature selection (given by\n",
    "running the linear regression with all features selected). The points given here\n",
    "depend on the achieved quality of the result and team size.*\n",
    "\n",
    "- *For a 2-person team RMSE less than 0.124.*"
   ]
  },
  {
   "cell_type": "markdown",
   "metadata": {},
   "source": [
    "Updating the chromosonme_length to match the dataset. **NOTE UNSURE OF THIS**"
   ]
  },
  {
   "cell_type": "code",
   "execution_count": null,
   "metadata": {},
   "outputs": [],
   "source": [
    "chromosome_length = data.shape[1] - 1\n",
    "enable_constraint = (False, [5, 10])\n",
    "g_max = 100"
   ]
  },
  {
   "cell_type": "markdown",
   "metadata": {},
   "source": [
    "### Running the genetic algorithm on the provideded dataset using feature selection"
   ]
  },
  {
   "cell_type": "code",
   "execution_count": null,
   "metadata": {},
   "outputs": [],
   "source": [
    "population = sga(survivor_selection = 'age', use_dataset=True, threshold=0.124)"
   ]
  },
  {
   "cell_type": "markdown",
   "metadata": {},
   "source": [
    "### Running the genetic algorithm on the provideded dataset **without** using feature selection\n",
    "\n",
    "Not sure if i interpreted this correctly"
   ]
  },
  {
   "cell_type": "code",
   "execution_count": null,
   "metadata": {},
   "outputs": [],
   "source": [
    "regressor.get_fitness(data.values[:,:-1], data.values[:,-1])"
   ]
  },
  {
   "cell_type": "markdown",
   "metadata": {},
   "source": [
    "*h) Implement a new survivor selection function. This function should be using a\n",
    "crowding technique as described in the section about crowding. Do exercise f)\n",
    "and g) again with the new selection function, and compare the results to using\n",
    "the simple genetic algorithm. Also show and compare how the entropies of\n",
    "the different approaches (SGA and crowding) change through the generations\n",
    "through a plot.*\n",
    "\n",
    "- For a 2-person team: implement and demonstrate two crowding\n",
    "approaches."
   ]
  },
  {
   "cell_type": "markdown",
   "metadata": {},
   "source": [
    "Here we have implemented two crowding methods. We have implemented **deterministic** and **probabilistic** replacement for crowding according to Mahfoud (as detailed in the lecture slides)."
   ]
  },
  {
   "cell_type": "code",
   "execution_count": null,
   "metadata": {},
   "outputs": [],
   "source": [
    "\n",
    "def mahfoud_crowding(c1, c2, p1, p2, use_dataset, replacement_method):\n",
    "    if hamming_distance(p1.genotype, c1.genotype) + hamming_distance(p2.genotype, c2.genotype) \\\n",
    "    < hamming_distance(p1.genotype, c2.genotype) + hamming_distance(p2.genotype, c1.genotype):\n",
    "        \n",
    "        # p1 agains  c1\n",
    "        person_a = replacement_method(p1, c1, use_dataset)\n",
    "        # p2 against c2\n",
    "        person_b = replacement_method(p2, c2, use_dataset)\n",
    "\n",
    "        return person_a, person_b\n",
    "    else:\n",
    "        # p1 against c2\n",
    "        person_a = replacement_method(p1, c2, use_dataset)\n",
    "        # p2 against c1\n",
    "        person_b = replacement_method(p2, c1, use_dataset)\n",
    "\n",
    "        return person_a, person_b\n",
    "\n",
    "\n",
    "def deterministic_crowding(parent, child, use_dataset):\n",
    "    p_fitness, c_fitness = get_fitness(parent, child, use_dataset)\n",
    "    if c_fitness > p_fitness:\n",
    "        return child\n",
    "    elif c_fitness > p_fitness:\n",
    "        return parent\n",
    "    else:\n",
    "        # If the their fitnesses are the same, this picks either with a 50% likelihood. \n",
    "        return random.choices([child, parent], weights=[0.5, 0.5], k=1)[0]\n",
    "    return \n",
    "\n",
    "def probablistic_crowding(parent, child, use_dataset):\n",
    "    p_fitness, c_fitness = get_fitness(parent, child, use_dataset)\n",
    "    # Probability that the child replaces the parent\n",
    "    p = (c_fitness) / (c_fitness + p_fitness)\n",
    "\n",
    "    return random.choices([child, parent], weights=[p, 1 - p], k=1)[0]\n",
    "\n",
    "def get_fitness(parent, child, use_dataset):\n",
    "    if use_dataset:\n",
    "        return parent.rmse_fitness, child.rmse_fitness\n",
    "    else:\n",
    "        return parent.sin_fitness, child.sin_fitness\n",
    "\n",
    "\n",
    "def hamming_distance(str1, str2):\n",
    "    if len(str1) != len(str2):\n",
    "        raise ValueError(\"Strings must be of equal length\")\n",
    "\n",
    "    return sum(c1 != c2 for c1, c2 in zip(str1, str2))\n"
   ]
  },
  {
   "cell_type": "markdown",
   "metadata": {},
   "source": [
    "### Creating a function to plot entropies"
   ]
  },
  {
   "cell_type": "code",
   "execution_count": null,
   "metadata": {},
   "outputs": [],
   "source": [
    "def plot_entropies(e1, e2):\n",
    "    generations = [point[0] for point in e1]\n",
    "    entropies = [point[1] for point in e1]\n",
    "    plt.plot(generations, entropies, marker='o', label='Crowding')  \n",
    "\n",
    "    generations = [point[0] for point in e2]\n",
    "    entropies = [point[1] for point in e2]\n",
    "    plt.plot(generations, entropies, marker='o', label='Simple Genetic Algorithm')  \n",
    "\n",
    "    plt.xlabel('Generation')\n",
    "    plt.ylabel('Entropy')\n",
    "    plt.title('Entropy Over Generations')\n",
    "    plt.grid(True) \n",
    "    plt.legend()\n",
    "\n",
    "    plt.show()"
   ]
  },
  {
   "cell_type": "markdown",
   "metadata": {},
   "source": [
    "### Now doing task f) \n",
    "\n",
    "- The goal is to compare our crowding methods with normal SGA. We will also present a plot on the entropy.\n"
   ]
  },
  {
   "cell_type": "code",
   "execution_count": null,
   "metadata": {},
   "outputs": [],
   "source": [
    "enable_constraint = (True, [5, 10])\n",
    "g_max = 10"
   ]
  },
  {
   "cell_type": "code",
   "execution_count": null,
   "metadata": {},
   "outputs": [],
   "source": [
    "population_crowding, entropy_points_crowding = sga(survivor_selection=None, use_dataset=False, \n",
    "                          crowding=(mahfoud_crowding, probablistic_crowding), enable_entropy=True)"
   ]
  },
  {
   "cell_type": "code",
   "execution_count": null,
   "metadata": {},
   "outputs": [],
   "source": [
    "population_sga, entropy_points_sga = sga(survivor_selection='tournament', use_dataset=False,\n",
    "                                         enable_entropy=True)"
   ]
  },
  {
   "cell_type": "markdown",
   "metadata": {},
   "source": [
    "### Comparing entropies"
   ]
  },
  {
   "cell_type": "code",
   "execution_count": null,
   "metadata": {},
   "outputs": [],
   "source": [
    "plot_entropies(entropy_points_crowding, entropy_points_sga)"
   ]
  },
  {
   "cell_type": "markdown",
   "metadata": {},
   "source": [
    "### Comparing Results\n",
    "\n",
    "Its seems that the implementation with crowding yields a higher average fitness. It also clear from the entropy plot that the crowding GA mantains diversity better than the simple SGA with increasing genenerations. This finding is consistent with the description for project 1A."
   ]
  },
  {
   "cell_type": "markdown",
   "metadata": {},
   "source": [
    "### Redoing doing task g)"
   ]
  },
  {
   "cell_type": "code",
   "execution_count": null,
   "metadata": {},
   "outputs": [],
   "source": [
    "chromosome_length = data.shape[1] - 1\n",
    "enable_constraint = (False, [5, 10])\n",
    "g_max = 100"
   ]
  },
  {
   "cell_type": "code",
   "execution_count": null,
   "metadata": {},
   "outputs": [],
   "source": [
    "population_crowding, entropy_points_crowding  = sga(survivor_selection = None, use_dataset=True,\n",
    "                                                     crowding=(mahfoud_crowding, deterministic_crowding), enable_entropy=True,\n",
    "                                                     threshold=0.124)"
   ]
  },
  {
   "cell_type": "code",
   "execution_count": null,
   "metadata": {},
   "outputs": [],
   "source": [
    "population_sga, entropy_points_sga = sga(survivor_selection = 'age', use_dataset=True, enable_entropy=True, threshold=0.124)"
   ]
  },
  {
   "cell_type": "code",
   "execution_count": null,
   "metadata": {},
   "outputs": [],
   "source": [
    "plot_entropies(entropy_points_crowding, entropy_points_sga)"
   ]
  },
  {
   "cell_type": "markdown",
   "metadata": {},
   "source": [
    "### Observations and analysis\n",
    "\n",
    "Note that without any feature selection we get a fitness of 0.1419134725520099. \n",
    "\n",
    "Here we try to reach a RMSE of less than 0.124. This done by running a genetic algorithm with and without crowding. At the end we plot the entropies.\n",
    "\n",
    "Once again we can see that crowding implementation maintains more diversity than the SGA. "
   ]
  },
  {
   "cell_type": "code",
   "execution_count": null,
   "metadata": {},
   "outputs": [],
   "source": []
  }
 ],
 "metadata": {
  "kernelspec": {
   "display_name": "Python 3",
   "language": "python",
   "name": "python3"
  },
  "language_info": {
   "codemirror_mode": {
    "name": "ipython",
    "version": 3
   },
   "file_extension": ".py",
   "mimetype": "text/x-python",
   "name": "python",
   "nbconvert_exporter": "python",
   "pygments_lexer": "ipython3",
   "version": "3.10.2"
  }
 },
 "nbformat": 4,
 "nbformat_minor": 2
}
