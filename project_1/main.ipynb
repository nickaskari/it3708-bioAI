{
 "cells": [
  {
   "cell_type": "code",
   "execution_count": 90,
   "metadata": {},
   "outputs": [],
   "source": [
    "import numpy as np\n",
    "import random"
   ]
  },
  {
   "cell_type": "markdown",
   "metadata": {},
   "source": [
    "## Defining paramters for the SGA"
   ]
  },
  {
   "cell_type": "code",
   "execution_count": 91,
   "metadata": {},
   "outputs": [],
   "source": [
    "pop_size = 10\n",
    "chromosome_length = 5\n",
    "generation_number = 1\n",
    "crossover_rate = 0.5\n",
    "mutation_rate = 0.1\n",
    "num_parents = 4"
   ]
  },
  {
   "cell_type": "markdown",
   "metadata": {},
   "source": [
    "## Defining the Individual"
   ]
  },
  {
   "cell_type": "code",
   "execution_count": 92,
   "metadata": {},
   "outputs": [],
   "source": [
    "class Individual:\n",
    "    def __init__(self, genotype) -> None:\n",
    "        self.genotype = genotype\n",
    "        self.phenotype = int(genotype, 2)\n",
    "        self.sin_fitness = self.calculate_sin_fitness()\n",
    "    \n",
    "    def calculate_sin_fitness(self):\n",
    "        genotype_length = len(self.genotype)\n",
    "        scaling_factor = (2**7) / (2**genotype_length)\n",
    "        scaled_value = self.phenotype * scaling_factor\n",
    "\n",
    "        # Scaling by 1 to avoid negative values\n",
    "        return np.sin(scaled_value) + 1\n",
    "    \n",
    "    def __repr__(self):\n",
    "        return f\"Individual(genotype={self.genotype}, phenotype={self.phenotype}, sin_fitness={self.sin_fitness})\""
   ]
  },
  {
   "cell_type": "markdown",
   "metadata": {},
   "source": [
    "## Defining the population"
   ]
  },
  {
   "cell_type": "code",
   "execution_count": 93,
   "metadata": {},
   "outputs": [],
   "source": [
    "population = []"
   ]
  },
  {
   "cell_type": "markdown",
   "metadata": {},
   "source": [
    "## Sin Synthetic Problem"
   ]
  },
  {
   "cell_type": "markdown",
   "metadata": {},
   "source": [
    "*a) Implement a function to generate an initial population for your genetic\n",
    "algorithm.*"
   ]
  },
  {
   "cell_type": "markdown",
   "metadata": {},
   "source": [
    "We are choosing to initialize the population, according to the size parameters. The actual genotypes (0's and 1's) will be generated randomly."
   ]
  },
  {
   "cell_type": "code",
   "execution_count": 94,
   "metadata": {},
   "outputs": [
    {
     "data": {
      "text/plain": [
       "[Individual(genotype=10011, phenotype=19, sin_fitness=1.5661076368981803),\n",
       " Individual(genotype=01111, phenotype=15, sin_fitness=0.6951893788977833),\n",
       " Individual(genotype=01110, phenotype=14, sin_fitness=0.47844899791308815),\n",
       " Individual(genotype=00001, phenotype=1, sin_fitness=0.2431975046920717),\n",
       " Individual(genotype=01101, phenotype=13, sin_fitness=1.9866275920404854),\n",
       " Individual(genotype=11100, phenotype=28, sin_fitness=0.11000439563316666),\n",
       " Individual(genotype=00011, phenotype=3, sin_fitness=0.46342708199956506),\n",
       " Individual(genotype=10111, phenotype=23, sin_fitness=0.22053393038419533),\n",
       " Individual(genotype=00000, phenotype=0, sin_fitness=1.0),\n",
       " Individual(genotype=11110, phenotype=30, sin_fitness=1.5806111842123143)]"
      ]
     },
     "execution_count": 94,
     "metadata": {},
     "output_type": "execute_result"
    }
   ],
   "source": [
    "for _ in range(pop_size):\n",
    "    new_genotype = \"\"\n",
    "    for _ in range(chromosome_length):\n",
    "        new_genotype += str(random.randint(0,1))\n",
    "\n",
    "    new_individual = Individual(new_genotype)\n",
    "    population.append(new_individual)\n",
    "\n",
    "population"
   ]
  },
  {
   "cell_type": "markdown",
   "metadata": {},
   "source": [
    "*b) Implement a parent selection function for your genetic algorithm. This function\n",
    "should find the fittest individuals in the population, and select parents based\n",
    "on this fitness.*"
   ]
  },
  {
   "cell_type": "markdown",
   "metadata": {},
   "source": [
    "Here we are using the fitness function given by the sine function, as explained in the task. Moreover we are implementing a roulette-wheel approach as parent selection."
   ]
  },
  {
   "cell_type": "code",
   "execution_count": 95,
   "metadata": {},
   "outputs": [],
   "source": [
    "def roulette_wheel_selection():\n",
    "    total_fitness = sum(individual.sin_fitness for individual in population)\n",
    "    \n",
    "    # Probability of choosing each individual based on the roulette wheel approach\n",
    "    probabilities = [individual.sin_fitness/total_fitness for individual in population]\n",
    "\n",
    "    # Choosing num_parents parents with the above probabilities for each individual\n",
    "    parents = np.random.choice(population, size=num_parents, p=probabilities)\n",
    "    \n",
    "    return parents"
   ]
  },
  {
   "cell_type": "code",
   "execution_count": 96,
   "metadata": {},
   "outputs": [
    {
     "data": {
      "text/plain": [
       "array([Individual(genotype=10011, phenotype=19, sin_fitness=1.5661076368981803),\n",
       "       Individual(genotype=00011, phenotype=3, sin_fitness=0.46342708199956506),\n",
       "       Individual(genotype=01110, phenotype=14, sin_fitness=0.47844899791308815),\n",
       "       Individual(genotype=00001, phenotype=1, sin_fitness=0.2431975046920717)],\n",
       "      dtype=object)"
      ]
     },
     "execution_count": 96,
     "metadata": {},
     "output_type": "execute_result"
    }
   ],
   "source": [
    "parents = roulette_wheel_selection()\n",
    "parents"
   ]
  },
  {
   "cell_type": "markdown",
   "metadata": {},
   "source": [
    "*c) Implement a function that creates two offspring from two parents through\n",
    "crossover. The offspring should also have a chance of getting a random\n",
    "mutation.*"
   ]
  },
  {
   "cell_type": "code",
   "execution_count": null,
   "metadata": {},
   "outputs": [],
   "source": []
  }
 ],
 "metadata": {
  "kernelspec": {
   "display_name": "Python 3",
   "language": "python",
   "name": "python3"
  },
  "language_info": {
   "codemirror_mode": {
    "name": "ipython",
    "version": 3
   },
   "file_extension": ".py",
   "mimetype": "text/x-python",
   "name": "python",
   "nbconvert_exporter": "python",
   "pygments_lexer": "ipython3",
   "version": "3.10.2"
  }
 },
 "nbformat": 4,
 "nbformat_minor": 2
}
