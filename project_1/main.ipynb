{
 "cells": [
  {
   "cell_type": "code",
   "execution_count": 217,
   "metadata": {},
   "outputs": [],
   "source": [
    "import numpy as np\n",
    "import random"
   ]
  },
  {
   "cell_type": "markdown",
   "metadata": {},
   "source": [
    "## Defining paramters for the SGA"
   ]
  },
  {
   "cell_type": "code",
   "execution_count": 218,
   "metadata": {},
   "outputs": [],
   "source": [
    "pop_size = 10\n",
    "chromosome_length = 5\n",
    "generation_number = 1\n",
    "crossover_rate = 0.5\n",
    "mutation_rate = 0.5\n",
    "num_parents = 4\n",
    "g_max = 10"
   ]
  },
  {
   "cell_type": "markdown",
   "metadata": {},
   "source": [
    "## Defining the Individual"
   ]
  },
  {
   "cell_type": "code",
   "execution_count": 219,
   "metadata": {},
   "outputs": [],
   "source": [
    "class Individual:\n",
    "    def __init__(self, genotype, age) -> None:\n",
    "        self.genotype = genotype\n",
    "        self.phenotype = int(genotype, 2)\n",
    "        self.sin_fitness = self.calculate_sin_fitness()\n",
    "        self.children = []\n",
    "        self.age = age\n",
    "    \n",
    "    def calculate_sin_fitness(self):\n",
    "        genotype_length = len(self.genotype)\n",
    "        scaling_factor = (2**7) / (2**genotype_length)\n",
    "        scaled_value = self.phenotype * scaling_factor\n",
    "        \n",
    "        # Scaling by 1 to avoid negative values\n",
    "        return np.sin(scaled_value) + 1\n",
    "    \n",
    "    def add_children(self, children):\n",
    "        self.children += children\n",
    "\n",
    "    def grow_older(self):\n",
    "        self.age += 1\n",
    "    \n",
    "    def __repr__(self):\n",
    "        return f\"Individual(genotype={self.genotype}, sin_fitness={self.sin_fitness})\""
   ]
  },
  {
   "cell_type": "markdown",
   "metadata": {},
   "source": [
    "## Sin Synthetic Problem"
   ]
  },
  {
   "cell_type": "markdown",
   "metadata": {},
   "source": [
    "*a) Implement a function to generate an initial population for your genetic\n",
    "algorithm.*"
   ]
  },
  {
   "cell_type": "markdown",
   "metadata": {},
   "source": [
    "We are choosing to initialize the population, according to the size parameters. The actual genotypes (0's and 1's) will be generated randomly."
   ]
  },
  {
   "cell_type": "code",
   "execution_count": 220,
   "metadata": {},
   "outputs": [],
   "source": [
    "def init_population():\n",
    "    population = []\n",
    "    \n",
    "    for _ in range(pop_size):\n",
    "        new_genotype = \"\"\n",
    "        for _ in range(chromosome_length):\n",
    "            new_genotype += str(random.randint(0,1))\n",
    "\n",
    "        new_individual = Individual(new_genotype, age=0)\n",
    "        population.append(new_individual)\n",
    "    return population"
   ]
  },
  {
   "cell_type": "markdown",
   "metadata": {},
   "source": [
    "*b) Implement a parent selection function for your genetic algorithm. This function\n",
    "should find the fittest individuals in the population, and select parents based\n",
    "on this fitness.*"
   ]
  },
  {
   "cell_type": "markdown",
   "metadata": {},
   "source": [
    "Here we are using the fitness function given by the sine function, as explained in the task. Moreover we are implementing a roulette-wheel approach as parent selection."
   ]
  },
  {
   "cell_type": "code",
   "execution_count": 221,
   "metadata": {},
   "outputs": [],
   "source": [
    "def roulette_wheel_parent_selection(population):\n",
    "    total_fitness = sum(individual.sin_fitness for individual in population)\n",
    "    \n",
    "    # Probability of choosing each individual based on the roulette wheel approach\n",
    "    probabilities = [individual.sin_fitness/total_fitness for individual in population]\n",
    "\n",
    "    # Choosing num_parents parents with the above probabilities for each individual\n",
    "    parents = np.random.choice(population, size=num_parents, p=probabilities)\n",
    "    \n",
    "    return parents"
   ]
  },
  {
   "cell_type": "markdown",
   "metadata": {},
   "source": [
    "*c) Implement a function that creates two offspring from two parents through\n",
    "crossover. The offspring should also have a chance of getting a random\n",
    "mutation.*"
   ]
  },
  {
   "cell_type": "code",
   "execution_count": 222,
   "metadata": {},
   "outputs": [],
   "source": [
    "def crossover(parent1, parent2):\n",
    "    gene_cutoff = random.randint(1, chromosome_length - 1)\n",
    "\n",
    "    genotype_1 = parent1.genotype[: gene_cutoff] + parent2.genotype[gene_cutoff:]\n",
    "    genotype_2 = parent2.genotype[: gene_cutoff] + parent1.genotype[gene_cutoff:]\n",
    "\n",
    "    child_1 = Individual(mutate(genotype_1), age=0)\n",
    "    child_2 = Individual(mutate(genotype_2), age=0)\n",
    "\n",
    "    parent1.add_children([child_1, child_2])\n",
    "    parent2.add_children([child_1, child_2])\n",
    "\n",
    "    return child_1, child_2\n",
    "        \n",
    "def mutate(genotype):\n",
    "    if np.random.random() < mutation_rate:\n",
    "        char_list = list(genotype)\n",
    "\n",
    "        random_index = np.random.randint(len(char_list))\n",
    "\n",
    "        char_list[random_index] = '0' if char_list[random_index] == '1' else '1'\n",
    "\n",
    "        return ''.join(char_list)\n",
    "    else:\n",
    "        return genotype"
   ]
  },
  {
   "cell_type": "markdown",
   "metadata": {},
   "source": [
    "*d) Implement survivor selection.*\n",
    "\n",
    "- For a 1-person team: Implement one survivor selection function that\n",
    "selects the survivors of a population based on their fitness.\n",
    "- For a 2-person team: Implement two such survivor selection functions."
   ]
  },
  {
   "cell_type": "markdown",
   "metadata": {},
   "source": [
    "Survivor selection function 1 chooses based on age. It sorts the population based on age, from youngest to oldest. Then outputs the youngest individuals."
   ]
  },
  {
   "cell_type": "code",
   "execution_count": 223,
   "metadata": {},
   "outputs": [],
   "source": [
    "def age_selection(population):\n",
    "    age_sorted_population = sorted(population, key=lambda x: x.age)\n",
    "    return age_sorted_population[:pop_size]"
   ]
  },
  {
   "cell_type": "markdown",
   "metadata": {},
   "source": [
    "Survivor selection function 2 uses tounrament selection. A set of individuals is randomly chosen, and the one with the highest fitness within this group is selected to survive. This process is repeated until the desired number of survivors is reached."
   ]
  },
  {
   "cell_type": "code",
   "execution_count": 224,
   "metadata": {},
   "outputs": [],
   "source": [
    "def tournament_selection(population):\n",
    "    contestants = population.copy()\n",
    "    winners = []\n",
    "\n",
    "    while len(winners) != pop_size:\n",
    "        size = random.randint(2, len(contestants))\n",
    "        trial = np.random.choice(contestants, size, replace=False)\n",
    "        winner = max(trial, key=lambda x: x.sin_fitness)\n",
    "        contestants.remove(winner)\n",
    "        \n",
    "        winners.append(winner)\n",
    "    \n",
    "    return winners"
   ]
  },
  {
   "cell_type": "markdown",
   "metadata": {},
   "source": [
    "*e) Connect all the implemented functions to complete the genetic algorithm, and\n",
    "run the algorithm with the sine fitness function. Throughout the generations\n",
    "plot the individuals, values and fitness values with the sine wave.*"
   ]
  },
  {
   "cell_type": "code",
   "execution_count": 215,
   "metadata": {},
   "outputs": [],
   "source": [
    "population = []"
   ]
  },
  {
   "cell_type": "code",
   "execution_count": null,
   "metadata": {},
   "outputs": [],
   "source": [
    "def sga(survivor_selection, population):\n",
    "    g = 0\n",
    "    population = init_population()\n",
    "\n",
    "    while g < g_max:\n",
    "        g += 1\n",
    "        new_population = []\n",
    "\n",
    "        for individual in population:\n",
    "            individual.grow_older()\n",
    "\n",
    "        # Creating parents (mating pool)\n",
    "        parents = roulette_wheel_parent_selection(population)\n",
    "        \n",
    "        # Shuffling mating pool\n",
    "        random.shuffle(parents)\n",
    "\n",
    "        # Pairing parents and creating offspring\n",
    "        for i in range(0, len(parents), 2):  # Step by 2 to get pairs\n",
    "            if i+1 < len(parents):  # Check to avoid index out of range\n",
    "                parent1 = parents[i]\n",
    "                parent2 = parents[i+1]\n",
    "                if np.random.random() < crossover_rate:\n",
    "                    child1, child2 = crossover(parent1, parent2)\n",
    "                    new_population.extend([child1, child2])\n",
    "                else:\n",
    "                    new_population.extend([parent1, parent2])\n",
    "\n",
    "        # Survivor selection\n",
    "        if survivor_selection == 'age':\n",
    "            population = age_selection(new_population)\n",
    "        elif survivor_selection == 'tournament':\n",
    "            population = tournament_selection(new_population)\n",
    "\n",
    "    return population\n"
   ]
  },
  {
   "cell_type": "code",
   "execution_count": null,
   "metadata": {},
   "outputs": [],
   "source": []
  }
 ],
 "metadata": {
  "kernelspec": {
   "display_name": "Python 3",
   "language": "python",
   "name": "python3"
  },
  "language_info": {
   "codemirror_mode": {
    "name": "ipython",
    "version": 3
   },
   "file_extension": ".py",
   "mimetype": "text/x-python",
   "name": "python",
   "nbconvert_exporter": "python",
   "pygments_lexer": "ipython3",
   "version": "3.10.2"
  }
 },
 "nbformat": 4,
 "nbformat_minor": 2
}
