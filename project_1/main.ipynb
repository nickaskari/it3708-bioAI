{
 "cells": [
  {
   "cell_type": "code",
   "execution_count": 117,
   "metadata": {},
   "outputs": [],
   "source": [
    "import numpy as np\n",
    "import random"
   ]
  },
  {
   "cell_type": "markdown",
   "metadata": {},
   "source": [
    "## Defining paramters for the SGA"
   ]
  },
  {
   "cell_type": "code",
   "execution_count": 118,
   "metadata": {},
   "outputs": [],
   "source": [
    "pop_size = 10\n",
    "chromosome_length = 5\n",
    "generation_number = 1\n",
    "crossover_rate = 0.5\n",
    "mutation_rate = 0.1\n",
    "num_parents = 4"
   ]
  },
  {
   "cell_type": "markdown",
   "metadata": {},
   "source": [
    "## Defining the Individual"
   ]
  },
  {
   "cell_type": "code",
   "execution_count": 119,
   "metadata": {},
   "outputs": [],
   "source": [
    "class Individual:\n",
    "    def __init__(self, genotype) -> None:\n",
    "        self.genotype = genotype\n",
    "        self.phenotype = int(genotype, 2)\n",
    "        self.sin_fitness = self.calculate_sin_fitness()\n",
    "        self.children = []\n",
    "    \n",
    "    def calculate_sin_fitness(self):\n",
    "        genotype_length = len(self.genotype)\n",
    "        scaling_factor = (2**7) / (2**genotype_length)\n",
    "        scaled_value = self.phenotype * scaling_factor\n",
    "        \n",
    "        # Scaling by 1 to avoid negative values\n",
    "        return np.sin(scaled_value) + 1\n",
    "    \n",
    "    def __repr__(self):\n",
    "        return f\"Individual(genotype={self.genotype}, sin_fitness={self.sin_fitness})\""
   ]
  },
  {
   "cell_type": "markdown",
   "metadata": {},
   "source": [
    "## Defining the population"
   ]
  },
  {
   "cell_type": "code",
   "execution_count": 120,
   "metadata": {},
   "outputs": [],
   "source": [
    "population = []"
   ]
  },
  {
   "cell_type": "markdown",
   "metadata": {},
   "source": [
    "## Sin Synthetic Problem"
   ]
  },
  {
   "cell_type": "markdown",
   "metadata": {},
   "source": [
    "*a) Implement a function to generate an initial population for your genetic\n",
    "algorithm.*"
   ]
  },
  {
   "cell_type": "markdown",
   "metadata": {},
   "source": [
    "We are choosing to initialize the population, according to the size parameters. The actual genotypes (0's and 1's) will be generated randomly."
   ]
  },
  {
   "cell_type": "code",
   "execution_count": 121,
   "metadata": {},
   "outputs": [],
   "source": [
    "def init_population():\n",
    "    for _ in range(pop_size):\n",
    "        new_genotype = \"\"\n",
    "        for _ in range(chromosome_length):\n",
    "            new_genotype += str(random.randint(0,1))\n",
    "\n",
    "        new_individual = Individual(new_genotype)\n",
    "        population.append(new_individual)"
   ]
  },
  {
   "cell_type": "code",
   "execution_count": 122,
   "metadata": {},
   "outputs": [
    {
     "data": {
      "text/plain": [
       "[Individual(genotype=10000, sin_fitness=1.9200260381967906),\n",
       " Individual(genotype=01001, sin_fitness=0.008221146556884218),\n",
       " Individual(genotype=11000, sin_fitness=1.983587745434345),\n",
       " Individual(genotype=00100, sin_fitness=0.7120966833349347),\n",
       " Individual(genotype=00110, sin_fitness=0.0944216379933761),\n",
       " Individual(genotype=00111, sin_fitness=1.2709057883078692),\n",
       " Individual(genotype=11011, sin_fitness=1.9268185054177849),\n",
       " Individual(genotype=11101, sin_fitness=1.236661393364286),\n",
       " Individual(genotype=00110, sin_fitness=0.0944216379933761),\n",
       " Individual(genotype=00111, sin_fitness=1.2709057883078692)]"
      ]
     },
     "execution_count": 122,
     "metadata": {},
     "output_type": "execute_result"
    }
   ],
   "source": [
    "init_population()\n",
    "population"
   ]
  },
  {
   "cell_type": "markdown",
   "metadata": {},
   "source": [
    "*b) Implement a parent selection function for your genetic algorithm. This function\n",
    "should find the fittest individuals in the population, and select parents based\n",
    "on this fitness.*"
   ]
  },
  {
   "cell_type": "markdown",
   "metadata": {},
   "source": [
    "Here we are using the fitness function given by the sine function, as explained in the task. Moreover we are implementing a roulette-wheel approach as parent selection."
   ]
  },
  {
   "cell_type": "code",
   "execution_count": 123,
   "metadata": {},
   "outputs": [],
   "source": [
    "def roulette_wheel_selection(population):\n",
    "    total_fitness = sum(individual.sin_fitness for individual in population)\n",
    "    \n",
    "    # Probability of choosing each individual based on the roulette wheel approach\n",
    "    probabilities = [individual.sin_fitness/total_fitness for individual in population]\n",
    "\n",
    "    # Choosing num_parents parents with the above probabilities for each individual\n",
    "    parents = np.random.choice(population, size=num_parents, p=probabilities)\n",
    "    \n",
    "    return parents"
   ]
  },
  {
   "cell_type": "code",
   "execution_count": 124,
   "metadata": {},
   "outputs": [
    {
     "data": {
      "text/plain": [
       "array([Individual(genotype=11000, sin_fitness=1.983587745434345),\n",
       "       Individual(genotype=00111, sin_fitness=1.2709057883078692),\n",
       "       Individual(genotype=11101, sin_fitness=1.236661393364286),\n",
       "       Individual(genotype=11000, sin_fitness=1.983587745434345)],\n",
       "      dtype=object)"
      ]
     },
     "execution_count": 124,
     "metadata": {},
     "output_type": "execute_result"
    }
   ],
   "source": [
    "parents = roulette_wheel_selection(population)\n",
    "parents"
   ]
  },
  {
   "cell_type": "markdown",
   "metadata": {},
   "source": [
    "*c) Implement a function that creates two offspring from two parents through\n",
    "crossover. The offspring should also have a chance of getting a random\n",
    "mutation.*"
   ]
  },
  {
   "cell_type": "code",
   "execution_count": 140,
   "metadata": {},
   "outputs": [],
   "source": [
    "def crossover(parent1, parent2):\n",
    "    gene_cutoff = random.randint(1, chromosome_length - 1)\n",
    "\n",
    "    genotype_1 = parent1.genotype[: gene_cutoff] + parent2.genotype[gene_cutoff:]\n",
    "    genotype_2 = parent2.genotype[: gene_cutoff] + parent1.genotype[gene_cutoff:]\n",
    "\n",
    "    # mutate\n",
    "    for _ in range(2):\n",
    "        mutation = random.randomint()\n",
    "    \n",
    "    # make child an individual\n",
    "    # make parent-child relation"
   ]
  },
  {
   "cell_type": "code",
   "execution_count": 141,
   "metadata": {},
   "outputs": [
    {
     "name": "stdout",
     "output_type": "stream",
     "text": [
      "Individual(genotype=11000, sin_fitness=1.983587745434345)\n",
      "Individual(genotype=00111, sin_fitness=1.2709057883078692)\n",
      "geneCutoff 4\n",
      "11001\n",
      "00110\n"
     ]
    }
   ],
   "source": [
    "crossover(parent1=parents[0], parent2=parents[1])"
   ]
  },
  {
   "cell_type": "code",
   "execution_count": null,
   "metadata": {},
   "outputs": [],
   "source": []
  }
 ],
 "metadata": {
  "kernelspec": {
   "display_name": "Python 3",
   "language": "python",
   "name": "python3"
  },
  "language_info": {
   "codemirror_mode": {
    "name": "ipython",
    "version": 3
   },
   "file_extension": ".py",
   "mimetype": "text/x-python",
   "name": "python",
   "nbconvert_exporter": "python",
   "pygments_lexer": "ipython3",
   "version": "3.10.2"
  }
 },
 "nbformat": 4,
 "nbformat_minor": 2
}
